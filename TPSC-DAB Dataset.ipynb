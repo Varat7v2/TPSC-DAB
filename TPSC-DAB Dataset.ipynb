{
 "cells": [
  {
   "cell_type": "markdown",
   "id": "aad34835",
   "metadata": {},
   "source": [
    "## Data Generation - Analytical Method"
   ]
  },
  {
   "cell_type": "code",
   "execution_count": 1,
   "id": "4e8084b5",
   "metadata": {},
   "outputs": [],
   "source": [
    "import math\n",
    "import numpy\n",
    "import pandas as pd"
   ]
  },
  {
   "cell_type": "code",
   "execution_count": 2,
   "id": "14ab86d6",
   "metadata": {
    "scrolled": true
   },
   "outputs": [
    {
     "data": {
      "text/html": [
       "<div>\n",
       "<style scoped>\n",
       "    .dataframe tbody tr th:only-of-type {\n",
       "        vertical-align: middle;\n",
       "    }\n",
       "\n",
       "    .dataframe tbody tr th {\n",
       "        vertical-align: top;\n",
       "    }\n",
       "\n",
       "    .dataframe thead th {\n",
       "        text-align: right;\n",
       "    }\n",
       "</style>\n",
       "<table border=\"1\" class=\"dataframe\">\n",
       "  <thead>\n",
       "    <tr style=\"text-align: right;\">\n",
       "      <th></th>\n",
       "      <th>phi</th>\n",
       "      <th>d1</th>\n",
       "      <th>d2</th>\n",
       "      <th>P</th>\n",
       "      <th>I</th>\n",
       "    </tr>\n",
       "  </thead>\n",
       "  <tbody>\n",
       "    <tr>\n",
       "      <th>0</th>\n",
       "      <td>0.058812</td>\n",
       "      <td>0.0</td>\n",
       "      <td>0.000000</td>\n",
       "      <td>10000</td>\n",
       "      <td>379.629089</td>\n",
       "    </tr>\n",
       "    <tr>\n",
       "      <th>1</th>\n",
       "      <td>0.058820</td>\n",
       "      <td>0.0</td>\n",
       "      <td>0.031416</td>\n",
       "      <td>10000</td>\n",
       "      <td>379.271925</td>\n",
       "    </tr>\n",
       "    <tr>\n",
       "      <th>2</th>\n",
       "      <td>0.058841</td>\n",
       "      <td>0.0</td>\n",
       "      <td>0.062832</td>\n",
       "      <td>10000</td>\n",
       "      <td>378.144862</td>\n",
       "    </tr>\n",
       "    <tr>\n",
       "      <th>3</th>\n",
       "      <td>0.058878</td>\n",
       "      <td>0.0</td>\n",
       "      <td>0.094248</td>\n",
       "      <td>10000</td>\n",
       "      <td>376.101166</td>\n",
       "    </tr>\n",
       "    <tr>\n",
       "      <th>4</th>\n",
       "      <td>0.058929</td>\n",
       "      <td>0.0</td>\n",
       "      <td>0.125664</td>\n",
       "      <td>10000</td>\n",
       "      <td>372.955244</td>\n",
       "    </tr>\n",
       "  </tbody>\n",
       "</table>\n",
       "</div>"
      ],
      "text/plain": [
       "        phi   d1        d2      P           I\n",
       "0  0.058812  0.0  0.000000  10000  379.629089\n",
       "1  0.058820  0.0  0.031416  10000  379.271925\n",
       "2  0.058841  0.0  0.062832  10000  378.144862\n",
       "3  0.058878  0.0  0.094248  10000  376.101166\n",
       "4  0.058929  0.0  0.125664  10000  372.955244"
      ]
     },
     "execution_count": 2,
     "metadata": {},
     "output_type": "execute_result"
    }
   ],
   "source": [
    "Pmax = 100000\n",
    "\n",
    "V1 = 400\n",
    "V2 = 400\n",
    "f = 50000\n",
    "Coss = 5*10**(-9)\n",
    "max_phi = 0.8 * math.pi\n",
    "rows = []\n",
    "\n",
    "L = 4*V1*V2*math.sin(0.8*math.pi)/(Pmax*(math.pi)**(3)*f)\n",
    "\n",
    "for power in range(10000,100000,10000):\n",
    "    for dutycycle1 in range(0,98,1):\n",
    "        d1 = dutycycle1/100 * math.pi\n",
    "        \n",
    "        for dutycycle2 in range(0,98,1):\n",
    "            d2 = dutycycle2/100 * math.pi\n",
    "            \n",
    "            sinmin = (power*(math.pi)**(3)*f*L)/(4*V1*V2*math.cos(d1/2)*math.cos(d2/2))\n",
    "            \n",
    "            if (sinmin >= -1 and sinmin <= 1):\n",
    "                phi2 = math.asin(sinmin)\n",
    "                                \n",
    "                v1_total_p1 = 0\n",
    "                v2_total_p1 = 0\n",
    "                \n",
    "                i_12total_p1 = 0\n",
    "                i_s = []\n",
    "                omega = 2*math.pi*f\n",
    "                for x1 in range (0,200,10):\n",
    "                    x1 = x1/100 * math.pi\n",
    "                    for nn in range (1,50,2):\n",
    "                    \n",
    "                        L12 = L\n",
    "                    \n",
    "                        d1r = 4/math.pi * math.cos(nn*d1/2)\n",
    "                        d2r = 4/math.pi * math.cos(nn*d2/2) * math.cos(nn*phi2)\n",
    "                        d2i = 4/math.pi * math.cos(nn*d2/2) * math.sin(nn*phi2)\n",
    "                        \n",
    "                        i_12_p1 = -V2/ (L12 * omega) * (d1r * math.cos(nn*x1*omega)/(nn**2) \n",
    "                                                        - d2r * math.cos(nn*x1*omega)/(nn**2) \n",
    "                                                        + d2i * math.sin(nn*x1 * omega)/(nn**2))\n",
    "                    \n",
    "                        i_12total_p1 = i_12total_p1 + i_12_p1\n",
    "                    \n",
    "                    i_s.append([abs(i_12total_p1)])\n",
    "                i_max = max(i_s)\n",
    "                i_s.clear()\n",
    "\n",
    "                rows.append([phi2, d1, d2, power, i_max[0]])   \n",
    "            else:\n",
    "                continue\n",
    "                \n",
    "df = pd.DataFrame(rows,columns=[\"phi\",\"d1\",\"d2\" ,\"P\",\"I\"])\n",
    "# df.to_csv('lookup-table_test1.csv', index=False)\n",
    "df.head(5)"
   ]
  },
  {
   "cell_type": "code",
   "execution_count": 3,
   "id": "3f15e172",
   "metadata": {},
   "outputs": [
    {
     "name": "stdout",
     "output_type": "stream",
     "text": [
      "Minimum current for Power=30000 Watts is 1069.282711735033 Amperes\n"
     ]
    }
   ],
   "source": [
    "## Test purpose\n",
    "test_power = 30000\n",
    "test_value = df[df['P']==test_power]['I'].min()\n",
    "print('Minimum current for Power={} Watts is {} Amperes'.format(test_power, \n",
    "                                                                 test_value))"
   ]
  },
  {
   "cell_type": "markdown",
   "id": "5acb6f44",
   "metadata": {},
   "source": [
    "### Grouping Power and Filtering data with Minimum Current Stress ($I_{L_{min}}$)"
   ]
  },
  {
   "cell_type": "code",
   "execution_count": 4,
   "id": "b0812a01",
   "metadata": {},
   "outputs": [
    {
     "data": {
      "text/html": [
       "<div>\n",
       "<style scoped>\n",
       "    .dataframe tbody tr th:only-of-type {\n",
       "        vertical-align: middle;\n",
       "    }\n",
       "\n",
       "    .dataframe tbody tr th {\n",
       "        vertical-align: top;\n",
       "    }\n",
       "\n",
       "    .dataframe thead th {\n",
       "        text-align: right;\n",
       "    }\n",
       "</style>\n",
       "<table border=\"1\" class=\"dataframe\">\n",
       "  <thead>\n",
       "    <tr style=\"text-align: right;\">\n",
       "      <th></th>\n",
       "      <th>phi</th>\n",
       "      <th>d1</th>\n",
       "      <th>d2</th>\n",
       "      <th>P</th>\n",
       "      <th>I</th>\n",
       "    </tr>\n",
       "  </thead>\n",
       "  <tbody>\n",
       "    <tr>\n",
       "      <th>2933</th>\n",
       "      <td>0.074106</td>\n",
       "      <td>0.942478</td>\n",
       "      <td>0.942478</td>\n",
       "      <td>10000</td>\n",
       "      <td>351.715352</td>\n",
       "    </tr>\n",
       "    <tr>\n",
       "      <th>8878</th>\n",
       "      <td>0.122180</td>\n",
       "      <td>0.000000</td>\n",
       "      <td>0.534071</td>\n",
       "      <td>20000</td>\n",
       "      <td>715.101337</td>\n",
       "    </tr>\n",
       "    <tr>\n",
       "      <th>16820</th>\n",
       "      <td>0.187481</td>\n",
       "      <td>0.000000</td>\n",
       "      <td>0.659734</td>\n",
       "      <td>30000</td>\n",
       "      <td>1069.282712</td>\n",
       "    </tr>\n",
       "    <tr>\n",
       "      <th>23958</th>\n",
       "      <td>0.252564</td>\n",
       "      <td>0.000000</td>\n",
       "      <td>0.691150</td>\n",
       "      <td>40000</td>\n",
       "      <td>1428.153616</td>\n",
       "    </tr>\n",
       "    <tr>\n",
       "      <th>30381</th>\n",
       "      <td>0.333407</td>\n",
       "      <td>0.000000</td>\n",
       "      <td>0.911062</td>\n",
       "      <td>50000</td>\n",
       "      <td>1788.485699</td>\n",
       "    </tr>\n",
       "  </tbody>\n",
       "</table>\n",
       "</div>"
      ],
      "text/plain": [
       "            phi        d1        d2      P            I\n",
       "2933   0.074106  0.942478  0.942478  10000   351.715352\n",
       "8878   0.122180  0.000000  0.534071  20000   715.101337\n",
       "16820  0.187481  0.000000  0.659734  30000  1069.282712\n",
       "23958  0.252564  0.000000  0.691150  40000  1428.153616\n",
       "30381  0.333407  0.000000  0.911062  50000  1788.485699"
      ]
     },
     "execution_count": 4,
     "metadata": {},
     "output_type": "execute_result"
    }
   ],
   "source": [
    "# Grouping entire dataset with similar power values and filtering out for minimum current stress\n",
    "df2 = df.groupby(['P'])['I'].min()    \n",
    "df_final = df.loc[df['I'].isin(df2.values)]\n",
    "df_final.head(5)"
   ]
  },
  {
   "cell_type": "markdown",
   "id": "19a89ce0",
   "metadata": {},
   "source": [
    "### Saving filtered Data to CSV file"
   ]
  },
  {
   "cell_type": "code",
   "execution_count": 5,
   "id": "d876f3aa",
   "metadata": {},
   "outputs": [],
   "source": [
    "df_final.to_csv('TPSC_DAB_dataset.csv', index=False)"
   ]
  },
  {
   "cell_type": "markdown",
   "id": "388fc851",
   "metadata": {},
   "source": [
    "### Adding more test dataset for model evaluation"
   ]
  },
  {
   "cell_type": "code",
   "execution_count": 6,
   "id": "2f5454c0",
   "metadata": {},
   "outputs": [],
   "source": [
    "# df_test1 = pd.read_csv('lookup-table_test1.csv')\n",
    "# df_test2 = pd.read_csv('lookup-table_test2.csv')\n",
    "# df_test = pd.concat([df_test1, df_test2], ignore_index=True, sort=False)\n",
    "# df_test.to_csv('lookup_table_test.csv')"
   ]
  }
 ],
 "metadata": {
  "kernelspec": {
   "display_name": "Python 3",
   "language": "python",
   "name": "python3"
  },
  "language_info": {
   "codemirror_mode": {
    "name": "ipython",
    "version": 3
   },
   "file_extension": ".py",
   "mimetype": "text/x-python",
   "name": "python",
   "nbconvert_exporter": "python",
   "pygments_lexer": "ipython3",
   "version": "3.8.10"
  }
 },
 "nbformat": 4,
 "nbformat_minor": 5
}
